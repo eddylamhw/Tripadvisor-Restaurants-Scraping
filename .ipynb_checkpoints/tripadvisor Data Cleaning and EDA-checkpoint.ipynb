{
 "cells": [
  {
   "cell_type": "markdown",
   "metadata": {},
   "source": [
    "# Import the Necessary Libraries"
   ]
  },
  {
   "cell_type": "code",
   "execution_count": 1,
   "metadata": {},
   "outputs": [],
   "source": [
    "import pandas as pd\n",
    "import numpy as np\n",
    "%matplotlib inline\n",
    "import matplotlib.pyplot as plt\n",
    "import seaborn as sns\n",
    "sns.set(color_codes = True)"
   ]
  },
  {
   "cell_type": "markdown",
   "metadata": {},
   "source": [
    "# Read the Scraped CSV"
   ]
  },
  {
   "cell_type": "code",
   "execution_count": 2,
   "metadata": {},
   "outputs": [],
   "source": [
    "df = pd.read_csv('restaurants.csv')"
   ]
  },
  {
   "cell_type": "code",
   "execution_count": 3,
   "metadata": {},
   "outputs": [
    {
     "data": {
      "text/html": [
       "<div>\n",
       "<style scoped>\n",
       "    .dataframe tbody tr th:only-of-type {\n",
       "        vertical-align: middle;\n",
       "    }\n",
       "\n",
       "    .dataframe tbody tr th {\n",
       "        vertical-align: top;\n",
       "    }\n",
       "\n",
       "    .dataframe thead th {\n",
       "        text-align: right;\n",
       "    }\n",
       "</style>\n",
       "<table border=\"1\" class=\"dataframe\">\n",
       "  <thead>\n",
       "    <tr style=\"text-align: right;\">\n",
       "      <th></th>\n",
       "      <th>genre</th>\n",
       "      <th>name</th>\n",
       "      <th>price</th>\n",
       "      <th>rank</th>\n",
       "      <th>rating</th>\n",
       "      <th>review_1</th>\n",
       "      <th>review_2</th>\n",
       "      <th>safety</th>\n",
       "      <th>total_review</th>\n",
       "    </tr>\n",
       "  </thead>\n",
       "  <tbody>\n",
       "    <tr>\n",
       "      <th>0</th>\n",
       "      <td>Peruvian, Latin</td>\n",
       "      <td>Chullschick</td>\n",
       "      <td>$$ - $$$</td>\n",
       "      <td>1.0</td>\n",
       "      <td>5.0</td>\n",
       "      <td>“... fries, potato salad, rice, roast sw...”</td>\n",
       "      <td>“... the sides of garlic rice and salad.”</td>\n",
       "      <td>NaN</td>\n",
       "      <td>138</td>\n",
       "    </tr>\n",
       "    <tr>\n",
       "      <th>1</th>\n",
       "      <td>European</td>\n",
       "      <td>Mandarin Grill + Bar at Mandarin Oriental, Hon...</td>\n",
       "      <td>$$$$</td>\n",
       "      <td>2.0</td>\n",
       "      <td>4.5</td>\n",
       "      <td>“and the black sesame souffle was the be...”</td>\n",
       "      <td>“Then beef tartare is a highlight, taste...”</td>\n",
       "      <td>NaN</td>\n",
       "      <td>867</td>\n",
       "    </tr>\n",
       "    <tr>\n",
       "      <th>2</th>\n",
       "      <td>French, Bar</td>\n",
       "      <td>Scarlett Cafe &amp; Wine Bar</td>\n",
       "      <td>$$ - $$$</td>\n",
       "      <td>3.0</td>\n",
       "      <td>4.5</td>\n",
       "      <td>“they came with Oysters, foie gras, salmon gra...</td>\n",
       "      <td>“The duck confit and the short ribs were great...</td>\n",
       "      <td>Taking safety measures</td>\n",
       "      <td>1,359</td>\n",
       "    </tr>\n",
       "    <tr>\n",
       "      <th>3</th>\n",
       "      <td>Chinese, Asian</td>\n",
       "      <td>Yan Toh Heen (InterContinental Hong Kong)</td>\n",
       "      <td>$$$$</td>\n",
       "      <td>4.0</td>\n",
       "      <td>4.5</td>\n",
       "      <td>“We love the 雪山包 and the wagyu dumplings!”</td>\n",
       "      <td>“I liked \"Cripy lobstar dumpling with black tr...</td>\n",
       "      <td>Taking safety measures</td>\n",
       "      <td>809</td>\n",
       "    </tr>\n",
       "    <tr>\n",
       "      <th>4</th>\n",
       "      <td>Japanese, Sushi</td>\n",
       "      <td>Nabe-Dokoro Sessyu</td>\n",
       "      <td>$$ - $$$</td>\n",
       "      <td>5.0</td>\n",
       "      <td>5.0</td>\n",
       "      <td>“午餐帶來好心情 !!”</td>\n",
       "      <td>“Lunch set worth dining for”</td>\n",
       "      <td>NaN</td>\n",
       "      <td>134</td>\n",
       "    </tr>\n",
       "    <tr>\n",
       "      <th>...</th>\n",
       "      <td>...</td>\n",
       "      <td>...</td>\n",
       "      <td>...</td>\n",
       "      <td>...</td>\n",
       "      <td>...</td>\n",
       "      <td>...</td>\n",
       "      <td>...</td>\n",
       "      <td>...</td>\n",
       "      <td>...</td>\n",
       "    </tr>\n",
       "    <tr>\n",
       "      <th>13232</th>\n",
       "      <td>NaN</td>\n",
       "      <td>KFC</td>\n",
       "      <td>NaN</td>\n",
       "      <td>13233.0</td>\n",
       "      <td>NaN</td>\n",
       "      <td>NaN</td>\n",
       "      <td>NaN</td>\n",
       "      <td>NaN</td>\n",
       "      <td>NaN</td>\n",
       "    </tr>\n",
       "    <tr>\n",
       "      <th>13233</th>\n",
       "      <td>NaN</td>\n",
       "      <td>Bar At Armoury</td>\n",
       "      <td>NaN</td>\n",
       "      <td>13234.0</td>\n",
       "      <td>NaN</td>\n",
       "      <td>NaN</td>\n",
       "      <td>NaN</td>\n",
       "      <td>NaN</td>\n",
       "      <td>NaN</td>\n",
       "    </tr>\n",
       "    <tr>\n",
       "      <th>13234</th>\n",
       "      <td>Japanese</td>\n",
       "      <td>Mou Mou Club</td>\n",
       "      <td>NaN</td>\n",
       "      <td>13235.0</td>\n",
       "      <td>NaN</td>\n",
       "      <td>NaN</td>\n",
       "      <td>NaN</td>\n",
       "      <td>NaN</td>\n",
       "      <td>NaN</td>\n",
       "    </tr>\n",
       "    <tr>\n",
       "      <th>13235</th>\n",
       "      <td>Japanese, Grill</td>\n",
       "      <td>Boduo</td>\n",
       "      <td>NaN</td>\n",
       "      <td>13236.0</td>\n",
       "      <td>NaN</td>\n",
       "      <td>NaN</td>\n",
       "      <td>NaN</td>\n",
       "      <td>NaN</td>\n",
       "      <td>NaN</td>\n",
       "    </tr>\n",
       "    <tr>\n",
       "      <th>13236</th>\n",
       "      <td>Cafe, International</td>\n",
       "      <td>PitStop</td>\n",
       "      <td>$$ - $$$</td>\n",
       "      <td>13237.0</td>\n",
       "      <td>NaN</td>\n",
       "      <td>NaN</td>\n",
       "      <td>NaN</td>\n",
       "      <td>NaN</td>\n",
       "      <td>NaN</td>\n",
       "    </tr>\n",
       "  </tbody>\n",
       "</table>\n",
       "<p>13237 rows × 9 columns</p>\n",
       "</div>"
      ],
      "text/plain": [
       "                     genre                                               name  \\\n",
       "0          Peruvian, Latin                                        Chullschick   \n",
       "1                 European  Mandarin Grill + Bar at Mandarin Oriental, Hon...   \n",
       "2              French, Bar                           Scarlett Cafe & Wine Bar   \n",
       "3           Chinese, Asian          Yan Toh Heen (InterContinental Hong Kong)   \n",
       "4          Japanese, Sushi                                 Nabe-Dokoro Sessyu   \n",
       "...                    ...                                                ...   \n",
       "13232                  NaN                                                KFC   \n",
       "13233                  NaN                                     Bar At Armoury   \n",
       "13234             Japanese                                       Mou Mou Club   \n",
       "13235      Japanese, Grill                                              Boduo   \n",
       "13236  Cafe, International                                            PitStop   \n",
       "\n",
       "          price     rank  rating  \\\n",
       "0      $$ - $$$      1.0     5.0   \n",
       "1          $$$$      2.0     4.5   \n",
       "2      $$ - $$$      3.0     4.5   \n",
       "3          $$$$      4.0     4.5   \n",
       "4      $$ - $$$      5.0     5.0   \n",
       "...         ...      ...     ...   \n",
       "13232       NaN  13233.0     NaN   \n",
       "13233       NaN  13234.0     NaN   \n",
       "13234       NaN  13235.0     NaN   \n",
       "13235       NaN  13236.0     NaN   \n",
       "13236  $$ - $$$  13237.0     NaN   \n",
       "\n",
       "                                                review_1  \\\n",
       "0           “... fries, potato salad, rice, roast sw...”   \n",
       "1           “and the black sesame souffle was the be...”   \n",
       "2      “they came with Oysters, foie gras, salmon gra...   \n",
       "3             “We love the 雪山包 and the wagyu dumplings!”   \n",
       "4                                           “午餐帶來好心情 !!”   \n",
       "...                                                  ...   \n",
       "13232                                                NaN   \n",
       "13233                                                NaN   \n",
       "13234                                                NaN   \n",
       "13235                                                NaN   \n",
       "13236                                                NaN   \n",
       "\n",
       "                                                review_2  \\\n",
       "0              “... the sides of garlic rice and salad.”   \n",
       "1           “Then beef tartare is a highlight, taste...”   \n",
       "2      “The duck confit and the short ribs were great...   \n",
       "3      “I liked \"Cripy lobstar dumpling with black tr...   \n",
       "4                           “Lunch set worth dining for”   \n",
       "...                                                  ...   \n",
       "13232                                                NaN   \n",
       "13233                                                NaN   \n",
       "13234                                                NaN   \n",
       "13235                                                NaN   \n",
       "13236                                                NaN   \n",
       "\n",
       "                       safety total_review  \n",
       "0                         NaN          138  \n",
       "1                         NaN          867  \n",
       "2      Taking safety measures        1,359  \n",
       "3      Taking safety measures          809  \n",
       "4                         NaN          134  \n",
       "...                       ...          ...  \n",
       "13232                     NaN          NaN  \n",
       "13233                     NaN          NaN  \n",
       "13234                     NaN          NaN  \n",
       "13235                     NaN          NaN  \n",
       "13236                     NaN          NaN  \n",
       "\n",
       "[13237 rows x 9 columns]"
      ]
     },
     "execution_count": 3,
     "metadata": {},
     "output_type": "execute_result"
    }
   ],
   "source": [
    "df"
   ]
  },
  {
   "cell_type": "code",
   "execution_count": 4,
   "metadata": {},
   "outputs": [
    {
     "name": "stdout",
     "output_type": "stream",
     "text": [
      "<class 'pandas.core.frame.DataFrame'>\n",
      "RangeIndex: 13237 entries, 0 to 13236\n",
      "Data columns (total 9 columns):\n",
      " #   Column        Non-Null Count  Dtype  \n",
      "---  ------        --------------  -----  \n",
      " 0   genre         8574 non-null   object \n",
      " 1   name          13237 non-null  object \n",
      " 2   price         6751 non-null   object \n",
      " 3   rank          13237 non-null  float64\n",
      " 4   rating        12077 non-null  float64\n",
      " 5   review_1      12077 non-null  object \n",
      " 6   review_2      10075 non-null  object \n",
      " 7   safety        19 non-null     object \n",
      " 8   total_review  12077 non-null  object \n",
      "dtypes: float64(2), object(7)\n",
      "memory usage: 930.9+ KB\n"
     ]
    }
   ],
   "source": [
    "df.info()"
   ]
  },
  {
   "cell_type": "markdown",
   "metadata": {},
   "source": [
    "# Data Cleaning"
   ]
  },
  {
   "cell_type": "code",
   "execution_count": 5,
   "metadata": {},
   "outputs": [],
   "source": [
    "df[['genre_1','genre_2']] = df.genre.str.split(\", \",expand=True,)"
   ]
  },
  {
   "cell_type": "code",
   "execution_count": 6,
   "metadata": {},
   "outputs": [
    {
     "data": {
      "text/html": [
       "<div>\n",
       "<style scoped>\n",
       "    .dataframe tbody tr th:only-of-type {\n",
       "        vertical-align: middle;\n",
       "    }\n",
       "\n",
       "    .dataframe tbody tr th {\n",
       "        vertical-align: top;\n",
       "    }\n",
       "\n",
       "    .dataframe thead th {\n",
       "        text-align: right;\n",
       "    }\n",
       "</style>\n",
       "<table border=\"1\" class=\"dataframe\">\n",
       "  <thead>\n",
       "    <tr style=\"text-align: right;\">\n",
       "      <th></th>\n",
       "      <th>genre</th>\n",
       "      <th>name</th>\n",
       "      <th>price</th>\n",
       "      <th>rank</th>\n",
       "      <th>rating</th>\n",
       "      <th>review_1</th>\n",
       "      <th>review_2</th>\n",
       "      <th>safety</th>\n",
       "      <th>total_review</th>\n",
       "      <th>genre_1</th>\n",
       "      <th>genre_2</th>\n",
       "    </tr>\n",
       "  </thead>\n",
       "  <tbody>\n",
       "    <tr>\n",
       "      <th>0</th>\n",
       "      <td>Peruvian, Latin</td>\n",
       "      <td>Chullschick</td>\n",
       "      <td>$$ - $$$</td>\n",
       "      <td>1.0</td>\n",
       "      <td>5.0</td>\n",
       "      <td>“... fries, potato salad, rice, roast sw...”</td>\n",
       "      <td>“... the sides of garlic rice and salad.”</td>\n",
       "      <td>NaN</td>\n",
       "      <td>138</td>\n",
       "      <td>Peruvian</td>\n",
       "      <td>Latin</td>\n",
       "    </tr>\n",
       "    <tr>\n",
       "      <th>1</th>\n",
       "      <td>European</td>\n",
       "      <td>Mandarin Grill + Bar at Mandarin Oriental, Hon...</td>\n",
       "      <td>$$$$</td>\n",
       "      <td>2.0</td>\n",
       "      <td>4.5</td>\n",
       "      <td>“and the black sesame souffle was the be...”</td>\n",
       "      <td>“Then beef tartare is a highlight, taste...”</td>\n",
       "      <td>NaN</td>\n",
       "      <td>867</td>\n",
       "      <td>European</td>\n",
       "      <td>None</td>\n",
       "    </tr>\n",
       "    <tr>\n",
       "      <th>2</th>\n",
       "      <td>French, Bar</td>\n",
       "      <td>Scarlett Cafe &amp; Wine Bar</td>\n",
       "      <td>$$ - $$$</td>\n",
       "      <td>3.0</td>\n",
       "      <td>4.5</td>\n",
       "      <td>“they came with Oysters, foie gras, salmon gra...</td>\n",
       "      <td>“The duck confit and the short ribs were great...</td>\n",
       "      <td>Taking safety measures</td>\n",
       "      <td>1,359</td>\n",
       "      <td>French</td>\n",
       "      <td>Bar</td>\n",
       "    </tr>\n",
       "    <tr>\n",
       "      <th>3</th>\n",
       "      <td>Chinese, Asian</td>\n",
       "      <td>Yan Toh Heen (InterContinental Hong Kong)</td>\n",
       "      <td>$$$$</td>\n",
       "      <td>4.0</td>\n",
       "      <td>4.5</td>\n",
       "      <td>“We love the 雪山包 and the wagyu dumplings!”</td>\n",
       "      <td>“I liked \"Cripy lobstar dumpling with black tr...</td>\n",
       "      <td>Taking safety measures</td>\n",
       "      <td>809</td>\n",
       "      <td>Chinese</td>\n",
       "      <td>Asian</td>\n",
       "    </tr>\n",
       "    <tr>\n",
       "      <th>4</th>\n",
       "      <td>Japanese, Sushi</td>\n",
       "      <td>Nabe-Dokoro Sessyu</td>\n",
       "      <td>$$ - $$$</td>\n",
       "      <td>5.0</td>\n",
       "      <td>5.0</td>\n",
       "      <td>“午餐帶來好心情 !!”</td>\n",
       "      <td>“Lunch set worth dining for”</td>\n",
       "      <td>NaN</td>\n",
       "      <td>134</td>\n",
       "      <td>Japanese</td>\n",
       "      <td>Sushi</td>\n",
       "    </tr>\n",
       "    <tr>\n",
       "      <th>...</th>\n",
       "      <td>...</td>\n",
       "      <td>...</td>\n",
       "      <td>...</td>\n",
       "      <td>...</td>\n",
       "      <td>...</td>\n",
       "      <td>...</td>\n",
       "      <td>...</td>\n",
       "      <td>...</td>\n",
       "      <td>...</td>\n",
       "      <td>...</td>\n",
       "      <td>...</td>\n",
       "    </tr>\n",
       "    <tr>\n",
       "      <th>13232</th>\n",
       "      <td>NaN</td>\n",
       "      <td>KFC</td>\n",
       "      <td>NaN</td>\n",
       "      <td>13233.0</td>\n",
       "      <td>NaN</td>\n",
       "      <td>NaN</td>\n",
       "      <td>NaN</td>\n",
       "      <td>NaN</td>\n",
       "      <td>NaN</td>\n",
       "      <td>NaN</td>\n",
       "      <td>NaN</td>\n",
       "    </tr>\n",
       "    <tr>\n",
       "      <th>13233</th>\n",
       "      <td>NaN</td>\n",
       "      <td>Bar At Armoury</td>\n",
       "      <td>NaN</td>\n",
       "      <td>13234.0</td>\n",
       "      <td>NaN</td>\n",
       "      <td>NaN</td>\n",
       "      <td>NaN</td>\n",
       "      <td>NaN</td>\n",
       "      <td>NaN</td>\n",
       "      <td>NaN</td>\n",
       "      <td>NaN</td>\n",
       "    </tr>\n",
       "    <tr>\n",
       "      <th>13234</th>\n",
       "      <td>Japanese</td>\n",
       "      <td>Mou Mou Club</td>\n",
       "      <td>NaN</td>\n",
       "      <td>13235.0</td>\n",
       "      <td>NaN</td>\n",
       "      <td>NaN</td>\n",
       "      <td>NaN</td>\n",
       "      <td>NaN</td>\n",
       "      <td>NaN</td>\n",
       "      <td>Japanese</td>\n",
       "      <td>None</td>\n",
       "    </tr>\n",
       "    <tr>\n",
       "      <th>13235</th>\n",
       "      <td>Japanese, Grill</td>\n",
       "      <td>Boduo</td>\n",
       "      <td>NaN</td>\n",
       "      <td>13236.0</td>\n",
       "      <td>NaN</td>\n",
       "      <td>NaN</td>\n",
       "      <td>NaN</td>\n",
       "      <td>NaN</td>\n",
       "      <td>NaN</td>\n",
       "      <td>Japanese</td>\n",
       "      <td>Grill</td>\n",
       "    </tr>\n",
       "    <tr>\n",
       "      <th>13236</th>\n",
       "      <td>Cafe, International</td>\n",
       "      <td>PitStop</td>\n",
       "      <td>$$ - $$$</td>\n",
       "      <td>13237.0</td>\n",
       "      <td>NaN</td>\n",
       "      <td>NaN</td>\n",
       "      <td>NaN</td>\n",
       "      <td>NaN</td>\n",
       "      <td>NaN</td>\n",
       "      <td>Cafe</td>\n",
       "      <td>International</td>\n",
       "    </tr>\n",
       "  </tbody>\n",
       "</table>\n",
       "<p>13237 rows × 11 columns</p>\n",
       "</div>"
      ],
      "text/plain": [
       "                     genre                                               name  \\\n",
       "0          Peruvian, Latin                                        Chullschick   \n",
       "1                 European  Mandarin Grill + Bar at Mandarin Oriental, Hon...   \n",
       "2              French, Bar                           Scarlett Cafe & Wine Bar   \n",
       "3           Chinese, Asian          Yan Toh Heen (InterContinental Hong Kong)   \n",
       "4          Japanese, Sushi                                 Nabe-Dokoro Sessyu   \n",
       "...                    ...                                                ...   \n",
       "13232                  NaN                                                KFC   \n",
       "13233                  NaN                                     Bar At Armoury   \n",
       "13234             Japanese                                       Mou Mou Club   \n",
       "13235      Japanese, Grill                                              Boduo   \n",
       "13236  Cafe, International                                            PitStop   \n",
       "\n",
       "          price     rank  rating  \\\n",
       "0      $$ - $$$      1.0     5.0   \n",
       "1          $$$$      2.0     4.5   \n",
       "2      $$ - $$$      3.0     4.5   \n",
       "3          $$$$      4.0     4.5   \n",
       "4      $$ - $$$      5.0     5.0   \n",
       "...         ...      ...     ...   \n",
       "13232       NaN  13233.0     NaN   \n",
       "13233       NaN  13234.0     NaN   \n",
       "13234       NaN  13235.0     NaN   \n",
       "13235       NaN  13236.0     NaN   \n",
       "13236  $$ - $$$  13237.0     NaN   \n",
       "\n",
       "                                                review_1  \\\n",
       "0           “... fries, potato salad, rice, roast sw...”   \n",
       "1           “and the black sesame souffle was the be...”   \n",
       "2      “they came with Oysters, foie gras, salmon gra...   \n",
       "3             “We love the 雪山包 and the wagyu dumplings!”   \n",
       "4                                           “午餐帶來好心情 !!”   \n",
       "...                                                  ...   \n",
       "13232                                                NaN   \n",
       "13233                                                NaN   \n",
       "13234                                                NaN   \n",
       "13235                                                NaN   \n",
       "13236                                                NaN   \n",
       "\n",
       "                                                review_2  \\\n",
       "0              “... the sides of garlic rice and salad.”   \n",
       "1           “Then beef tartare is a highlight, taste...”   \n",
       "2      “The duck confit and the short ribs were great...   \n",
       "3      “I liked \"Cripy lobstar dumpling with black tr...   \n",
       "4                           “Lunch set worth dining for”   \n",
       "...                                                  ...   \n",
       "13232                                                NaN   \n",
       "13233                                                NaN   \n",
       "13234                                                NaN   \n",
       "13235                                                NaN   \n",
       "13236                                                NaN   \n",
       "\n",
       "                       safety total_review   genre_1        genre_2  \n",
       "0                         NaN          138  Peruvian          Latin  \n",
       "1                         NaN          867  European           None  \n",
       "2      Taking safety measures        1,359    French            Bar  \n",
       "3      Taking safety measures          809   Chinese          Asian  \n",
       "4                         NaN          134  Japanese          Sushi  \n",
       "...                       ...          ...       ...            ...  \n",
       "13232                     NaN          NaN       NaN            NaN  \n",
       "13233                     NaN          NaN       NaN            NaN  \n",
       "13234                     NaN          NaN  Japanese           None  \n",
       "13235                     NaN          NaN  Japanese          Grill  \n",
       "13236                     NaN          NaN      Cafe  International  \n",
       "\n",
       "[13237 rows x 11 columns]"
      ]
     },
     "execution_count": 6,
     "metadata": {},
     "output_type": "execute_result"
    }
   ],
   "source": [
    "df"
   ]
  },
  {
   "cell_type": "code",
   "execution_count": 7,
   "metadata": {},
   "outputs": [],
   "source": [
    "restaurants = df[['rank','name','rating','genre','genre_1','genre_2','price','total_review','safety','review_1','review_2']]"
   ]
  },
  {
   "cell_type": "code",
   "execution_count": 8,
   "metadata": {},
   "outputs": [
    {
     "data": {
      "text/html": [
       "<div>\n",
       "<style scoped>\n",
       "    .dataframe tbody tr th:only-of-type {\n",
       "        vertical-align: middle;\n",
       "    }\n",
       "\n",
       "    .dataframe tbody tr th {\n",
       "        vertical-align: top;\n",
       "    }\n",
       "\n",
       "    .dataframe thead th {\n",
       "        text-align: right;\n",
       "    }\n",
       "</style>\n",
       "<table border=\"1\" class=\"dataframe\">\n",
       "  <thead>\n",
       "    <tr style=\"text-align: right;\">\n",
       "      <th></th>\n",
       "      <th>rank</th>\n",
       "      <th>name</th>\n",
       "      <th>rating</th>\n",
       "      <th>genre</th>\n",
       "      <th>genre_1</th>\n",
       "      <th>genre_2</th>\n",
       "      <th>price</th>\n",
       "      <th>total_review</th>\n",
       "      <th>safety</th>\n",
       "      <th>review_1</th>\n",
       "      <th>review_2</th>\n",
       "    </tr>\n",
       "  </thead>\n",
       "  <tbody>\n",
       "    <tr>\n",
       "      <th>0</th>\n",
       "      <td>1.0</td>\n",
       "      <td>Chullschick</td>\n",
       "      <td>5.0</td>\n",
       "      <td>Peruvian, Latin</td>\n",
       "      <td>Peruvian</td>\n",
       "      <td>Latin</td>\n",
       "      <td>$$ - $$$</td>\n",
       "      <td>138</td>\n",
       "      <td>NaN</td>\n",
       "      <td>“... fries, potato salad, rice, roast sw...”</td>\n",
       "      <td>“... the sides of garlic rice and salad.”</td>\n",
       "    </tr>\n",
       "    <tr>\n",
       "      <th>1</th>\n",
       "      <td>2.0</td>\n",
       "      <td>Mandarin Grill + Bar at Mandarin Oriental, Hon...</td>\n",
       "      <td>4.5</td>\n",
       "      <td>European</td>\n",
       "      <td>European</td>\n",
       "      <td>None</td>\n",
       "      <td>$$$$</td>\n",
       "      <td>867</td>\n",
       "      <td>NaN</td>\n",
       "      <td>“and the black sesame souffle was the be...”</td>\n",
       "      <td>“Then beef tartare is a highlight, taste...”</td>\n",
       "    </tr>\n",
       "    <tr>\n",
       "      <th>2</th>\n",
       "      <td>3.0</td>\n",
       "      <td>Scarlett Cafe &amp; Wine Bar</td>\n",
       "      <td>4.5</td>\n",
       "      <td>French, Bar</td>\n",
       "      <td>French</td>\n",
       "      <td>Bar</td>\n",
       "      <td>$$ - $$$</td>\n",
       "      <td>1,359</td>\n",
       "      <td>Taking safety measures</td>\n",
       "      <td>“they came with Oysters, foie gras, salmon gra...</td>\n",
       "      <td>“The duck confit and the short ribs were great...</td>\n",
       "    </tr>\n",
       "    <tr>\n",
       "      <th>3</th>\n",
       "      <td>4.0</td>\n",
       "      <td>Yan Toh Heen (InterContinental Hong Kong)</td>\n",
       "      <td>4.5</td>\n",
       "      <td>Chinese, Asian</td>\n",
       "      <td>Chinese</td>\n",
       "      <td>Asian</td>\n",
       "      <td>$$$$</td>\n",
       "      <td>809</td>\n",
       "      <td>Taking safety measures</td>\n",
       "      <td>“We love the 雪山包 and the wagyu dumplings!”</td>\n",
       "      <td>“I liked \"Cripy lobstar dumpling with black tr...</td>\n",
       "    </tr>\n",
       "    <tr>\n",
       "      <th>4</th>\n",
       "      <td>5.0</td>\n",
       "      <td>Nabe-Dokoro Sessyu</td>\n",
       "      <td>5.0</td>\n",
       "      <td>Japanese, Sushi</td>\n",
       "      <td>Japanese</td>\n",
       "      <td>Sushi</td>\n",
       "      <td>$$ - $$$</td>\n",
       "      <td>134</td>\n",
       "      <td>NaN</td>\n",
       "      <td>“午餐帶來好心情 !!”</td>\n",
       "      <td>“Lunch set worth dining for”</td>\n",
       "    </tr>\n",
       "    <tr>\n",
       "      <th>...</th>\n",
       "      <td>...</td>\n",
       "      <td>...</td>\n",
       "      <td>...</td>\n",
       "      <td>...</td>\n",
       "      <td>...</td>\n",
       "      <td>...</td>\n",
       "      <td>...</td>\n",
       "      <td>...</td>\n",
       "      <td>...</td>\n",
       "      <td>...</td>\n",
       "      <td>...</td>\n",
       "    </tr>\n",
       "    <tr>\n",
       "      <th>13232</th>\n",
       "      <td>13233.0</td>\n",
       "      <td>KFC</td>\n",
       "      <td>NaN</td>\n",
       "      <td>NaN</td>\n",
       "      <td>NaN</td>\n",
       "      <td>NaN</td>\n",
       "      <td>NaN</td>\n",
       "      <td>NaN</td>\n",
       "      <td>NaN</td>\n",
       "      <td>NaN</td>\n",
       "      <td>NaN</td>\n",
       "    </tr>\n",
       "    <tr>\n",
       "      <th>13233</th>\n",
       "      <td>13234.0</td>\n",
       "      <td>Bar At Armoury</td>\n",
       "      <td>NaN</td>\n",
       "      <td>NaN</td>\n",
       "      <td>NaN</td>\n",
       "      <td>NaN</td>\n",
       "      <td>NaN</td>\n",
       "      <td>NaN</td>\n",
       "      <td>NaN</td>\n",
       "      <td>NaN</td>\n",
       "      <td>NaN</td>\n",
       "    </tr>\n",
       "    <tr>\n",
       "      <th>13234</th>\n",
       "      <td>13235.0</td>\n",
       "      <td>Mou Mou Club</td>\n",
       "      <td>NaN</td>\n",
       "      <td>Japanese</td>\n",
       "      <td>Japanese</td>\n",
       "      <td>None</td>\n",
       "      <td>NaN</td>\n",
       "      <td>NaN</td>\n",
       "      <td>NaN</td>\n",
       "      <td>NaN</td>\n",
       "      <td>NaN</td>\n",
       "    </tr>\n",
       "    <tr>\n",
       "      <th>13235</th>\n",
       "      <td>13236.0</td>\n",
       "      <td>Boduo</td>\n",
       "      <td>NaN</td>\n",
       "      <td>Japanese, Grill</td>\n",
       "      <td>Japanese</td>\n",
       "      <td>Grill</td>\n",
       "      <td>NaN</td>\n",
       "      <td>NaN</td>\n",
       "      <td>NaN</td>\n",
       "      <td>NaN</td>\n",
       "      <td>NaN</td>\n",
       "    </tr>\n",
       "    <tr>\n",
       "      <th>13236</th>\n",
       "      <td>13237.0</td>\n",
       "      <td>PitStop</td>\n",
       "      <td>NaN</td>\n",
       "      <td>Cafe, International</td>\n",
       "      <td>Cafe</td>\n",
       "      <td>International</td>\n",
       "      <td>$$ - $$$</td>\n",
       "      <td>NaN</td>\n",
       "      <td>NaN</td>\n",
       "      <td>NaN</td>\n",
       "      <td>NaN</td>\n",
       "    </tr>\n",
       "  </tbody>\n",
       "</table>\n",
       "<p>13237 rows × 11 columns</p>\n",
       "</div>"
      ],
      "text/plain": [
       "          rank                                               name  rating  \\\n",
       "0          1.0                                        Chullschick     5.0   \n",
       "1          2.0  Mandarin Grill + Bar at Mandarin Oriental, Hon...     4.5   \n",
       "2          3.0                           Scarlett Cafe & Wine Bar     4.5   \n",
       "3          4.0          Yan Toh Heen (InterContinental Hong Kong)     4.5   \n",
       "4          5.0                                 Nabe-Dokoro Sessyu     5.0   \n",
       "...        ...                                                ...     ...   \n",
       "13232  13233.0                                                KFC     NaN   \n",
       "13233  13234.0                                     Bar At Armoury     NaN   \n",
       "13234  13235.0                                       Mou Mou Club     NaN   \n",
       "13235  13236.0                                              Boduo     NaN   \n",
       "13236  13237.0                                            PitStop     NaN   \n",
       "\n",
       "                     genre   genre_1        genre_2     price total_review  \\\n",
       "0          Peruvian, Latin  Peruvian          Latin  $$ - $$$          138   \n",
       "1                 European  European           None      $$$$          867   \n",
       "2              French, Bar    French            Bar  $$ - $$$        1,359   \n",
       "3           Chinese, Asian   Chinese          Asian      $$$$          809   \n",
       "4          Japanese, Sushi  Japanese          Sushi  $$ - $$$          134   \n",
       "...                    ...       ...            ...       ...          ...   \n",
       "13232                  NaN       NaN            NaN       NaN          NaN   \n",
       "13233                  NaN       NaN            NaN       NaN          NaN   \n",
       "13234             Japanese  Japanese           None       NaN          NaN   \n",
       "13235      Japanese, Grill  Japanese          Grill       NaN          NaN   \n",
       "13236  Cafe, International      Cafe  International  $$ - $$$          NaN   \n",
       "\n",
       "                       safety  \\\n",
       "0                         NaN   \n",
       "1                         NaN   \n",
       "2      Taking safety measures   \n",
       "3      Taking safety measures   \n",
       "4                         NaN   \n",
       "...                       ...   \n",
       "13232                     NaN   \n",
       "13233                     NaN   \n",
       "13234                     NaN   \n",
       "13235                     NaN   \n",
       "13236                     NaN   \n",
       "\n",
       "                                                review_1  \\\n",
       "0           “... fries, potato salad, rice, roast sw...”   \n",
       "1           “and the black sesame souffle was the be...”   \n",
       "2      “they came with Oysters, foie gras, salmon gra...   \n",
       "3             “We love the 雪山包 and the wagyu dumplings!”   \n",
       "4                                           “午餐帶來好心情 !!”   \n",
       "...                                                  ...   \n",
       "13232                                                NaN   \n",
       "13233                                                NaN   \n",
       "13234                                                NaN   \n",
       "13235                                                NaN   \n",
       "13236                                                NaN   \n",
       "\n",
       "                                                review_2  \n",
       "0              “... the sides of garlic rice and salad.”  \n",
       "1           “Then beef tartare is a highlight, taste...”  \n",
       "2      “The duck confit and the short ribs were great...  \n",
       "3      “I liked \"Cripy lobstar dumpling with black tr...  \n",
       "4                           “Lunch set worth dining for”  \n",
       "...                                                  ...  \n",
       "13232                                                NaN  \n",
       "13233                                                NaN  \n",
       "13234                                                NaN  \n",
       "13235                                                NaN  \n",
       "13236                                                NaN  \n",
       "\n",
       "[13237 rows x 11 columns]"
      ]
     },
     "execution_count": 8,
     "metadata": {},
     "output_type": "execute_result"
    }
   ],
   "source": [
    "restaurants"
   ]
  },
  {
   "cell_type": "code",
   "execution_count": 9,
   "metadata": {},
   "outputs": [],
   "source": [
    "#restaurants.to_csv('restaurants_v2.csv',index=False)"
   ]
  },
  {
   "cell_type": "code",
   "execution_count": 10,
   "metadata": {
    "scrolled": true
   },
   "outputs": [
    {
     "name": "stdout",
     "output_type": "stream",
     "text": [
      "<class 'pandas.core.frame.DataFrame'>\n",
      "RangeIndex: 13237 entries, 0 to 13236\n",
      "Data columns (total 11 columns):\n",
      " #   Column        Non-Null Count  Dtype  \n",
      "---  ------        --------------  -----  \n",
      " 0   rank          13237 non-null  float64\n",
      " 1   name          13237 non-null  object \n",
      " 2   rating        12077 non-null  float64\n",
      " 3   genre         8574 non-null   object \n",
      " 4   genre_1       8574 non-null   object \n",
      " 5   genre_2       4766 non-null   object \n",
      " 6   price         6751 non-null   object \n",
      " 7   total_review  12077 non-null  object \n",
      " 8   safety        19 non-null     object \n",
      " 9   review_1      12077 non-null  object \n",
      " 10  review_2      10075 non-null  object \n",
      "dtypes: float64(2), object(9)\n",
      "memory usage: 1.1+ MB\n"
     ]
    }
   ],
   "source": [
    "restaurants.info()"
   ]
  },
  {
   "cell_type": "code",
   "execution_count": 11,
   "metadata": {},
   "outputs": [],
   "source": [
    "#pd.set_option('display.max_rows', None)\n",
    "#restaurants"
   ]
  },
  {
   "cell_type": "code",
   "execution_count": 12,
   "metadata": {},
   "outputs": [],
   "source": [
    "#restaurants['genre'].value_counts().plot.pie()"
   ]
  },
  {
   "cell_type": "markdown",
   "metadata": {},
   "source": [
    "# Missing Values"
   ]
  },
  {
   "cell_type": "code",
   "execution_count": 13,
   "metadata": {},
   "outputs": [
    {
     "data": {
      "text/plain": [
       "<matplotlib.axes._subplots.AxesSubplot at 0x1e06a3dcd00>"
      ]
     },
     "execution_count": 13,
     "metadata": {},
     "output_type": "execute_result"
    },
    {
     "data": {
      "image/png": "[encoded data removed]",
      "text/plain": [
       "<Figure size 432x288 with 2 Axes>"
      ]
     },
     "metadata": {},
     "output_type": "display_data"
    }
   ],
   "source": [
    "#Missing Values\n",
    "missing_values = restaurants.isnull()\n",
    "sns.heatmap(data=missing_values, cmap='viridis')"
   ]
  },
  {
   "cell_type": "markdown",
   "metadata": {},
   "source": [
    "# Restaurants Taking Safety Measures"
   ]
  },
  {
   "cell_type": "code",
   "execution_count": 14,
   "metadata": {},
   "outputs": [],
   "source": [
    "# Imputing Missing Values for Safety\n",
    "restaurants['safety'] = restaurants['safety'].fillna('Not taking full safety measures')"
   ]
  },
  {
   "cell_type": "code",
   "execution_count": 15,
   "metadata": {},
   "outputs": [
    {
     "name": "stderr",
     "output_type": "stream",
     "text": [
      "<ipython-input-15-2a678bbca561>:3: MatplotlibDeprecationWarning: Adding an axes using the same arguments as a previous axes currently reuses the earlier instance.  In a future version, a new instance will always be created and returned.  Meanwhile, this warning can be suppressed, and the future behavior ensured, by passing a unique label to each axes instance.\n",
      "  plt.axes().set_ylabel('')\n"
     ]
    },
    {
     "data": {
      "text/plain": [
       "Text(0.5, 1.0, 'Restaurants Taking Full Safety Measures or Not')"
      ]
     },
     "execution_count": 15,
     "metadata": {},
     "output_type": "execute_result"
    },
    {
     "data": {
      "image/png": "[encoded data removed]",
      "text/plain": [
       "<Figure size 432x288 with 1 Axes>"
      ]
     },
     "metadata": {},
     "output_type": "display_data"
    }
   ],
   "source": [
    "# Compare Number of Restaurants taking and not fully taking safety measures\n",
    "restaurants['safety'].value_counts().plot.pie(radius = 2, autopct='%1.1f%%', explode=(0,1), startangle=0)\n",
    "plt.axes().set_ylabel('')\n",
    "plt.title('Restaurants Taking Full Safety Measures or Not', pad = 80, fontsize = 15)"
   ]
  },
  {
   "cell_type": "markdown",
   "metadata": {},
   "source": [
    "# The 10 Most Common Food Types"
   ]
  },
  {
   "cell_type": "code",
   "execution_count": 16,
   "metadata": {},
   "outputs": [
    {
     "data": {
      "text/plain": [
       "Chinese           2666\n",
       "Japanese          1266\n",
       "Asian              776\n",
       "Italian            498\n",
       "Cafe               439\n",
       "                  ... \n",
       "Polynesian           1\n",
       "Pakistani            1\n",
       "Fruit parlours       1\n",
       "Arabic               1\n",
       "Yunnan               1\n",
       "Name: genre_1, Length: 79, dtype: int64"
      ]
     },
     "execution_count": 16,
     "metadata": {},
     "output_type": "execute_result"
    }
   ],
   "source": [
    "restaurants['genre_1'].value_counts()"
   ]
  },
  {
   "cell_type": "code",
   "execution_count": 17,
   "metadata": {},
   "outputs": [],
   "source": [
    "genre_series = restaurants['genre_1'].append(restaurants['genre_2'])"
   ]
  },
  {
   "cell_type": "code",
   "execution_count": 18,
   "metadata": {},
   "outputs": [
    {
     "name": "stderr",
     "output_type": "stream",
     "text": [
      "<ipython-input-18-ce0e56d96da5>:3: MatplotlibDeprecationWarning: Adding an axes using the same arguments as a previous axes currently reuses the earlier instance.  In a future version, a new instance will always be created and returned.  Meanwhile, this warning can be suppressed, and the future behavior ensured, by passing a unique label to each axes instance.\n",
      "  plt.axes().set_ylabel('')\n"
     ]
    },
    {
     "data": {
      "text/plain": [
       "Text(0.5, 1.0, 'The 10 Most Common Food Types')"
      ]
     },
     "execution_count": 18,
     "metadata": {},
     "output_type": "execute_result"
    },
    {
     "data": {
      "image/png": "[encoded data removed]",
      "text/plain": [
       "<Figure size 432x288 with 1 Axes>"
      ]
     },
     "metadata": {},
     "output_type": "display_data"
    }
   ],
   "source": [
    "# The 10 Most Common Food Types\n",
    "genre_series.value_counts().head(10).plot.pie(radius = 2, autopct='%1.1f%%', explode=(0,0,0,0.1,0.2,0.2,0.2,0.2,0.2,0.2), startangle=0)\n",
    "plt.axes().set_ylabel('')\n",
    "plt.title('The 10 Most Common Food Types', pad = 80, fontsize = 15)"
   ]
  },
  {
   "cell_type": "markdown",
   "metadata": {},
   "source": [
    "# Rating"
   ]
  },
  {
   "cell_type": "code",
   "execution_count": 19,
   "metadata": {},
   "outputs": [
    {
     "data": {
      "text/plain": [
       " 4.0    5358\n",
       " 3.5    2397\n",
       " 4.5    2396\n",
       " 3.0     901\n",
       " 5.0     833\n",
       " 2.5     120\n",
       " 2.0      51\n",
       " 1.0      16\n",
       " 1.5       3\n",
       "-1.0       2\n",
       "Name: rating, dtype: int64"
      ]
     },
     "execution_count": 19,
     "metadata": {},
     "output_type": "execute_result"
    }
   ],
   "source": [
    "restaurants['rating'].value_counts()"
   ]
  },
  {
   "cell_type": "code",
   "execution_count": 20,
   "metadata": {},
   "outputs": [
    {
     "data": {
      "text/html": [
       "<div>\n",
       "<style scoped>\n",
       "    .dataframe tbody tr th:only-of-type {\n",
       "        vertical-align: middle;\n",
       "    }\n",
       "\n",
       "    .dataframe tbody tr th {\n",
       "        vertical-align: top;\n",
       "    }\n",
       "\n",
       "    .dataframe thead th {\n",
       "        text-align: right;\n",
       "    }\n",
       "</style>\n",
       "<table border=\"1\" class=\"dataframe\">\n",
       "  <thead>\n",
       "    <tr style=\"text-align: right;\">\n",
       "      <th></th>\n",
       "      <th>rank</th>\n",
       "      <th>name</th>\n",
       "      <th>rating</th>\n",
       "      <th>genre</th>\n",
       "      <th>genre_1</th>\n",
       "      <th>genre_2</th>\n",
       "      <th>price</th>\n",
       "      <th>total_review</th>\n",
       "      <th>safety</th>\n",
       "      <th>review_1</th>\n",
       "      <th>review_2</th>\n",
       "    </tr>\n",
       "  </thead>\n",
       "  <tbody>\n",
       "    <tr>\n",
       "      <th>12191</th>\n",
       "      <td>12192.0</td>\n",
       "      <td>Chickpea</td>\n",
       "      <td>-1.0</td>\n",
       "      <td>Middle Eastern</td>\n",
       "      <td>Middle Eastern</td>\n",
       "      <td>None</td>\n",
       "      <td>NaN</td>\n",
       "      <td>1</td>\n",
       "      <td>Not taking full safety measures</td>\n",
       "      <td>“Really good, reasonably priced Middle...”</td>\n",
       "      <td>NaN</td>\n",
       "    </tr>\n",
       "    <tr>\n",
       "      <th>12225</th>\n",
       "      <td>12226.0</td>\n",
       "      <td>The Alchemist Cafe</td>\n",
       "      <td>-1.0</td>\n",
       "      <td>Cafe</td>\n",
       "      <td>Cafe</td>\n",
       "      <td>None</td>\n",
       "      <td>NaN</td>\n",
       "      <td>1</td>\n",
       "      <td>Not taking full safety measures</td>\n",
       "      <td>“牧羊少年香港島第一間分店”</td>\n",
       "      <td>NaN</td>\n",
       "    </tr>\n",
       "  </tbody>\n",
       "</table>\n",
       "</div>"
      ],
      "text/plain": [
       "          rank                name  rating           genre         genre_1  \\\n",
       "12191  12192.0            Chickpea    -1.0  Middle Eastern  Middle Eastern   \n",
       "12225  12226.0  The Alchemist Cafe    -1.0            Cafe            Cafe   \n",
       "\n",
       "      genre_2 price total_review                           safety  \\\n",
       "12191    None   NaN            1  Not taking full safety measures   \n",
       "12225    None   NaN            1  Not taking full safety measures   \n",
       "\n",
       "                                         review_1 review_2  \n",
       "12191  “Really good, reasonably priced Middle...”      NaN  \n",
       "12225                              “牧羊少年香港島第一間分店”      NaN  "
      ]
     },
     "execution_count": 20,
     "metadata": {},
     "output_type": "execute_result"
    }
   ],
   "source": [
    "restaurants[restaurants['rating'] == -1]"
   ]
  },
  {
   "cell_type": "code",
   "execution_count": 21,
   "metadata": {},
   "outputs": [],
   "source": [
    "rating_series = restaurants[restaurants.rating != -1]['rating']"
   ]
  },
  {
   "cell_type": "code",
   "execution_count": 22,
   "metadata": {},
   "outputs": [
    {
     "data": {
      "text/plain": [
       "4.0    5358\n",
       "3.5    2397\n",
       "4.5    2396\n",
       "3.0     901\n",
       "5.0     833\n",
       "2.5     120\n",
       "2.0      51\n",
       "1.0      16\n",
       "1.5       3\n",
       "Name: rating, dtype: int64"
      ]
     },
     "execution_count": 22,
     "metadata": {},
     "output_type": "execute_result"
    }
   ],
   "source": [
    "rating_series.value_counts()"
   ]
  },
  {
   "cell_type": "code",
   "execution_count": 23,
   "metadata": {},
   "outputs": [
    {
     "data": {
      "text/plain": [
       "Text(0.5, 1.0, 'Percentage of Restaurants Ratings')"
      ]
     },
     "execution_count": 23,
     "metadata": {},
     "output_type": "execute_result"
    },
    {
     "data": {
      "image/png": "[encoded data removed]",
      "text/plain": [
       "<Figure size 432x288 with 1 Axes>"
      ]
     },
     "metadata": {},
     "output_type": "display_data"
    }
   ],
   "source": [
    "rating_series.value_counts().plot.pie(radius=2, autopct='%1.1f%%', explode=(0,0,0,0,0,0,1.1,2.5,4), startangle=0)\n",
    "plt.title('Percentage of Restaurants Ratings', pad = 90, fontsize = 15)"
   ]
  },
  {
   "cell_type": "markdown",
   "metadata": {},
   "source": [
    "# Total Review"
   ]
  },
  {
   "cell_type": "code",
   "execution_count": 24,
   "metadata": {},
   "outputs": [
    {
     "data": {
      "text/plain": [
       "0         138.0\n",
       "1         867.0\n",
       "2        1359.0\n",
       "3         809.0\n",
       "4         134.0\n",
       "          ...  \n",
       "13232       NaN\n",
       "13233       NaN\n",
       "13234       NaN\n",
       "13235       NaN\n",
       "13236       NaN\n",
       "Name: total_review, Length: 13237, dtype: float64"
      ]
     },
     "execution_count": 24,
     "metadata": {},
     "output_type": "execute_result"
    }
   ],
   "source": [
    "# Create a series of total_review with no null value\n",
    "\n",
    "# Changing Total_review into numerical values\n",
    "restaurants['total_review'] = restaurants['total_review'].str.replace(r'[^\\d+]','', regex=True).astype(float)\n",
    "restaurants['total_review']"
   ]
  },
  {
   "cell_type": "code",
   "execution_count": 25,
   "metadata": {},
   "outputs": [
    {
     "data": {
      "text/plain": [
       "Text(0.5, 1.0, 'Distribution of Review Numbers for Restaurants')"
      ]
     },
     "execution_count": 25,
     "metadata": {},
     "output_type": "execute_result"
    },
    {
     "data": {
      "image/png": "[encoded data removed]",
      "text/plain": [
       "<Figure size 432x288 with 1 Axes>"
      ]
     },
     "metadata": {},
     "output_type": "display_data"
    }
   ],
   "source": [
    "r = sns.distplot(restaurants['total_review'])\n",
    "r.set_title('Distribution of Review Numbers for Restaurants', fontsize = 15)"
   ]
  },
  {
   "cell_type": "markdown",
   "metadata": {},
   "source": [
    "# Price"
   ]
  },
  {
   "cell_type": "code",
   "execution_count": 26,
   "metadata": {},
   "outputs": [
    {
     "data": {
      "text/plain": [
       "0        False\n",
       "1        False\n",
       "2        False\n",
       "3        False\n",
       "4        False\n",
       "         ...  \n",
       "13232     True\n",
       "13233     True\n",
       "13234     True\n",
       "13235     True\n",
       "13236    False\n",
       "Name: price, Length: 13237, dtype: bool"
      ]
     },
     "execution_count": 26,
     "metadata": {},
     "output_type": "execute_result"
    }
   ],
   "source": [
    "# Distribution of price range\n",
    "restaurants['price'].isna()"
   ]
  },
  {
   "cell_type": "code",
   "execution_count": 27,
   "metadata": {},
   "outputs": [],
   "source": [
    "#restaurants['price'] = restaurants['price'].fillna('Unknown')"
   ]
  },
  {
   "cell_type": "code",
   "execution_count": 28,
   "metadata": {},
   "outputs": [
    {
     "data": {
      "text/plain": [
       "$$ - $$$    4572\n",
       "$           1601\n",
       "$$$$         578\n",
       "Name: price, dtype: int64"
      ]
     },
     "execution_count": 28,
     "metadata": {},
     "output_type": "execute_result"
    }
   ],
   "source": [
    "restaurants['price'].value_counts()"
   ]
  },
  {
   "cell_type": "code",
   "execution_count": 29,
   "metadata": {},
   "outputs": [],
   "source": [
    "# Encoding price range with mapping\n",
    "price_map = {'$': 1, '$$ - $$$': 2, '$$$$': 3}\n",
    "restaurants['price'] = restaurants['price'].map(price_map, na_action='ignore')\n"
   ]
  },
  {
   "cell_type": "code",
   "execution_count": 30,
   "metadata": {},
   "outputs": [
    {
     "data": {
      "text/plain": [
       "2.0    4572\n",
       "1.0    1601\n",
       "3.0     578\n",
       "Name: price, dtype: int64"
      ]
     },
     "execution_count": 30,
     "metadata": {},
     "output_type": "execute_result"
    }
   ],
   "source": [
    "restaurants['price'].value_counts()"
   ]
  },
  {
   "cell_type": "code",
   "execution_count": 31,
   "metadata": {},
   "outputs": [
    {
     "data": {
      "text/plain": [
       "Text(0.5, 1.0, 'Restaurants Food Price')"
      ]
     },
     "execution_count": 31,
     "metadata": {},
     "output_type": "execute_result"
    },
    {
     "data": {
      "image/png": "[encoded data removed]",
      "text/plain": [
       "<Figure size 432x288 with 1 Axes>"
      ]
     },
     "metadata": {},
     "output_type": "display_data"
    }
   ],
   "source": [
    "price_order = [1.0,2.0,3.0]\n",
    "p = sns.countplot(x = \"price\", data = restaurants, order = price_order)\n",
    "p.set_xticklabels(['Cheap','Medium','Expensive'])\n",
    "p.set_title('Restaurants Food Price', fontsize = 15)"
   ]
  },
  {
   "cell_type": "markdown",
   "metadata": {},
   "source": [
    "# Correlation between Rating, Total Review, and Price"
   ]
  },
  {
   "cell_type": "code",
   "execution_count": 32,
   "metadata": {},
   "outputs": [
    {
     "data": {
      "text/plain": [
       "<matplotlib.axes._subplots.AxesSubplot at 0x1e06b98f670>"
      ]
     },
     "execution_count": 32,
     "metadata": {},
     "output_type": "execute_result"
    },
    {
     "data": {
      "image/png": "[encoded data removed]",
      "text/plain": [
       "<Figure size 720x360 with 2 Axes>"
      ]
     },
     "metadata": {},
     "output_type": "display_data"
    }
   ],
   "source": [
    "# Heatmap comparison for rating, total_review, and price range\n",
    "plt.subplots(figsize = (10,5))\n",
    "correlation_matrix = restaurants[['rating','total_review','price']].corr()\n",
    "sns.heatmap(correlation_matrix, annot=True)"
   ]
  },
  {
   "cell_type": "code",
   "execution_count": 33,
   "metadata": {},
   "outputs": [
    {
     "data": {
      "text/plain": [
       "<seaborn.axisgrid.PairGrid at 0x1e06ba0ce80>"
      ]
     },
     "execution_count": 33,
     "metadata": {},
     "output_type": "execute_result"
    },
    {
     "data": {
      "image/png": "[encoded data removed]",
      "text/plain": [
       "<Figure size 540x540 with 12 Axes>"
      ]
     },
     "metadata": {},
     "output_type": "display_data"
    }
   ],
   "source": [
    "sns.pairplot(restaurants[['rating','total_review','price']])"
   ]
  },
  {
   "cell_type": "markdown",
   "metadata": {},
   "source": [
    "# The 20 Most Common Food Types among the 1000 Highest Ranking Restaurants"
   ]
  },
  {
   "cell_type": "code",
   "execution_count": 34,
   "metadata": {},
   "outputs": [],
   "source": [
    "# Most common food types for the 1000 highest ranked restaurants\n",
    "genre_series_top1000 = restaurants.head(1000)['genre_1'].append(restaurants.head(1000)['genre_2'])"
   ]
  },
  {
   "cell_type": "code",
   "execution_count": 35,
   "metadata": {},
   "outputs": [
    {
     "data": {
      "text/plain": [
       "Text(0.5, 1.0, 'The 20 Most Common Food Types among the 1000 Highest Ranking Restaurants')"
      ]
     },
     "execution_count": 35,
     "metadata": {},
     "output_type": "execute_result"
    },
    {
     "data": {
      "image/png": "[encoded data removed]",
      "text/plain": [
       "<Figure size 432x288 with 1 Axes>"
      ]
     },
     "metadata": {},
     "output_type": "display_data"
    }
   ],
   "source": [
    "# Showing top 20 food types for the 1000 highest ranked restaurants\n",
    "genre_series.value_counts().head(20).plot.bar()\n",
    "plt.title('The 20 Most Common Food Types among the 1000 Highest Ranking Restaurants')"
   ]
  },
  {
   "cell_type": "markdown",
   "metadata": {},
   "source": [
    "# The Restaurant with the Highest Number of Reviews"
   ]
  },
  {
   "cell_type": "code",
   "execution_count": 36,
   "metadata": {},
   "outputs": [
    {
     "data": {
      "text/html": [
       "<div>\n",
       "<style scoped>\n",
       "    .dataframe tbody tr th:only-of-type {\n",
       "        vertical-align: middle;\n",
       "    }\n",
       "\n",
       "    .dataframe tbody tr th {\n",
       "        vertical-align: top;\n",
       "    }\n",
       "\n",
       "    .dataframe thead th {\n",
       "        text-align: right;\n",
       "    }\n",
       "</style>\n",
       "<table border=\"1\" class=\"dataframe\">\n",
       "  <thead>\n",
       "    <tr style=\"text-align: right;\">\n",
       "      <th></th>\n",
       "      <th>rank</th>\n",
       "      <th>name</th>\n",
       "      <th>rating</th>\n",
       "      <th>genre</th>\n",
       "      <th>genre_1</th>\n",
       "      <th>genre_2</th>\n",
       "      <th>price</th>\n",
       "      <th>total_review</th>\n",
       "      <th>safety</th>\n",
       "      <th>review_1</th>\n",
       "      <th>review_2</th>\n",
       "    </tr>\n",
       "  </thead>\n",
       "  <tbody>\n",
       "    <tr>\n",
       "      <th>62</th>\n",
       "      <td>63.0</td>\n",
       "      <td>OZONE</td>\n",
       "      <td>4.5</td>\n",
       "      <td>Bar</td>\n",
       "      <td>Bar</td>\n",
       "      <td>None</td>\n",
       "      <td>3.0</td>\n",
       "      <td>4129.0</td>\n",
       "      <td>Not taking full safety measures</td>\n",
       "      <td>“Brilliant Birthday Brunch”</td>\n",
       "      <td>“Amazing view on clear days.”</td>\n",
       "    </tr>\n",
       "  </tbody>\n",
       "</table>\n",
       "</div>"
      ],
      "text/plain": [
       "    rank   name  rating genre genre_1 genre_2  price  total_review  \\\n",
       "62  63.0  OZONE     4.5   Bar     Bar    None    3.0        4129.0   \n",
       "\n",
       "                             safety                     review_1  \\\n",
       "62  Not taking full safety measures  “Brilliant Birthday Brunch”   \n",
       "\n",
       "                         review_2  \n",
       "62  “Amazing view on clear days.”  "
      ]
     },
     "execution_count": 36,
     "metadata": {},
     "output_type": "execute_result"
    }
   ],
   "source": [
    "restaurants[restaurants['total_review'] == restaurants['total_review'].max()]"
   ]
  },
  {
   "cell_type": "markdown",
   "metadata": {},
   "source": [
    "# Self-Created Ranking List, Ordered by Total Review, and then by Rating"
   ]
  },
  {
   "cell_type": "code",
   "execution_count": 37,
   "metadata": {},
   "outputs": [
    {
     "data": {
      "text/html": [
       "<div>\n",
       "<style scoped>\n",
       "    .dataframe tbody tr th:only-of-type {\n",
       "        vertical-align: middle;\n",
       "    }\n",
       "\n",
       "    .dataframe tbody tr th {\n",
       "        vertical-align: top;\n",
       "    }\n",
       "\n",
       "    .dataframe thead th {\n",
       "        text-align: right;\n",
       "    }\n",
       "</style>\n",
       "<table border=\"1\" class=\"dataframe\">\n",
       "  <thead>\n",
       "    <tr style=\"text-align: right;\">\n",
       "      <th></th>\n",
       "      <th>rank</th>\n",
       "      <th>name</th>\n",
       "      <th>rating</th>\n",
       "      <th>genre</th>\n",
       "      <th>genre_1</th>\n",
       "      <th>genre_2</th>\n",
       "      <th>price</th>\n",
       "      <th>total_review</th>\n",
       "      <th>safety</th>\n",
       "      <th>review_1</th>\n",
       "      <th>review_2</th>\n",
       "    </tr>\n",
       "  </thead>\n",
       "  <tbody>\n",
       "    <tr>\n",
       "      <th>62</th>\n",
       "      <td>63.0</td>\n",
       "      <td>OZONE</td>\n",
       "      <td>4.5</td>\n",
       "      <td>Bar</td>\n",
       "      <td>Bar</td>\n",
       "      <td>None</td>\n",
       "      <td>3.0</td>\n",
       "      <td>4129.0</td>\n",
       "      <td>Not taking full safety measures</td>\n",
       "      <td>“Brilliant Birthday Brunch”</td>\n",
       "      <td>“Amazing view on clear days.”</td>\n",
       "    </tr>\n",
       "    <tr>\n",
       "      <th>244</th>\n",
       "      <td>245.0</td>\n",
       "      <td>Tim Ho Wan, the Dim-Sum Specialists</td>\n",
       "      <td>4.0</td>\n",
       "      <td>Chinese, Asian</td>\n",
       "      <td>Chinese</td>\n",
       "      <td>Asian</td>\n",
       "      <td>1.0</td>\n",
       "      <td>3245.0</td>\n",
       "      <td>Not taking full safety measures</td>\n",
       "      <td>“The baked bun with BBQ pork and steamed egg c...</td>\n",
       "      <td>“Good Dim Sum Good Price”</td>\n",
       "    </tr>\n",
       "    <tr>\n",
       "      <th>220</th>\n",
       "      <td>221.0</td>\n",
       "      <td>Aqua Roma, Aqua Tokyo &amp; Aqua Spirit</td>\n",
       "      <td>4.5</td>\n",
       "      <td>Italian, Japanese</td>\n",
       "      <td>Italian</td>\n",
       "      <td>Japanese</td>\n",
       "      <td>3.0</td>\n",
       "      <td>3096.0</td>\n",
       "      <td>Not taking full safety measures</td>\n",
       "      <td>“The scallops are a highlight and the staff go...</td>\n",
       "      <td>“The sashimi platter was superb - oyster, salm...</td>\n",
       "    </tr>\n",
       "    <tr>\n",
       "      <th>103</th>\n",
       "      <td>104.0</td>\n",
       "      <td>One Dim Sum Chinese Restaurant</td>\n",
       "      <td>4.5</td>\n",
       "      <td>Chinese</td>\n",
       "      <td>Chinese</td>\n",
       "      <td>None</td>\n",
       "      <td>1.0</td>\n",
       "      <td>2742.0</td>\n",
       "      <td>Not taking full safety measures</td>\n",
       "      <td>“Amazing dimsum!! MUST VISIT”</td>\n",
       "      <td>“Clean, efficient, fairly priced and in my opi...</td>\n",
       "    </tr>\n",
       "    <tr>\n",
       "      <th>118</th>\n",
       "      <td>119.0</td>\n",
       "      <td>Din Tai Fung (Yee Wo Branch)</td>\n",
       "      <td>4.5</td>\n",
       "      <td>Chinese, Asian</td>\n",
       "      <td>Chinese</td>\n",
       "      <td>Asian</td>\n",
       "      <td>2.0</td>\n",
       "      <td>2107.0</td>\n",
       "      <td>Not taking full safety measures</td>\n",
       "      <td>“Excellent Dim Sum at a good price in a conven...</td>\n",
       "      <td>“The dishes were excellent and we enjoyed seve...</td>\n",
       "    </tr>\n",
       "    <tr>\n",
       "      <th>166</th>\n",
       "      <td>167.0</td>\n",
       "      <td>Hutong</td>\n",
       "      <td>4.0</td>\n",
       "      <td>Chinese, Asian</td>\n",
       "      <td>Chinese</td>\n",
       "      <td>Asian</td>\n",
       "      <td>3.0</td>\n",
       "      <td>1875.0</td>\n",
       "      <td>Not taking full safety measures</td>\n",
       "      <td>“Fried rice and crispy shredded beef.”</td>\n",
       "      <td>“It is just entire HK. - food is excellent: We...</td>\n",
       "    </tr>\n",
       "    <tr>\n",
       "      <th>447</th>\n",
       "      <td>448.0</td>\n",
       "      <td>Tim Ho Wan (Central)</td>\n",
       "      <td>4.0</td>\n",
       "      <td>Chinese, Asian</td>\n",
       "      <td>Chinese</td>\n",
       "      <td>Asian</td>\n",
       "      <td>1.0</td>\n",
       "      <td>1767.0</td>\n",
       "      <td>Not taking full safety measures</td>\n",
       "      <td>“We ordered four items: Turnip cake: these squ...</td>\n",
       "      <td>“I ordered the radish cakes (exceeded my expec...</td>\n",
       "    </tr>\n",
       "    <tr>\n",
       "      <th>589</th>\n",
       "      <td>590.0</td>\n",
       "      <td>Australia Dairy Company</td>\n",
       "      <td>3.5</td>\n",
       "      <td>Chinese</td>\n",
       "      <td>Chinese</td>\n",
       "      <td>None</td>\n",
       "      <td>1.0</td>\n",
       "      <td>1761.0</td>\n",
       "      <td>Not taking full safety measures</td>\n",
       "      <td>“famous scrambled egg”</td>\n",
       "      <td>“Best Scrambled Eggs Ever”</td>\n",
       "    </tr>\n",
       "    <tr>\n",
       "      <th>757</th>\n",
       "      <td>758.0</td>\n",
       "      <td>Yung Kee Restaurant</td>\n",
       "      <td>3.5</td>\n",
       "      <td>Chinese, Asian</td>\n",
       "      <td>Chinese</td>\n",
       "      <td>Asian</td>\n",
       "      <td>3.0</td>\n",
       "      <td>1699.0</td>\n",
       "      <td>Not taking full safety measures</td>\n",
       "      <td>“... belly and fried rice with mini crab...”</td>\n",
       "      <td>“My wife saw the BBQ goose and duck in t...”</td>\n",
       "    </tr>\n",
       "    <tr>\n",
       "      <th>135</th>\n",
       "      <td>136.0</td>\n",
       "      <td>Din Tai Fung (Silvercord)</td>\n",
       "      <td>4.5</td>\n",
       "      <td>Chinese, Asian</td>\n",
       "      <td>Chinese</td>\n",
       "      <td>Asian</td>\n",
       "      <td>2.0</td>\n",
       "      <td>1686.0</td>\n",
       "      <td>Not taking full safety measures</td>\n",
       "      <td>“Still fine.”</td>\n",
       "      <td>“michelin star !”</td>\n",
       "    </tr>\n",
       "  </tbody>\n",
       "</table>\n",
       "</div>"
      ],
      "text/plain": [
       "      rank                                 name  rating              genre  \\\n",
       "62    63.0                                OZONE     4.5                Bar   \n",
       "244  245.0  Tim Ho Wan, the Dim-Sum Specialists     4.0     Chinese, Asian   \n",
       "220  221.0  Aqua Roma, Aqua Tokyo & Aqua Spirit     4.5  Italian, Japanese   \n",
       "103  104.0       One Dim Sum Chinese Restaurant     4.5            Chinese   \n",
       "118  119.0         Din Tai Fung (Yee Wo Branch)     4.5     Chinese, Asian   \n",
       "166  167.0                               Hutong     4.0     Chinese, Asian   \n",
       "447  448.0                 Tim Ho Wan (Central)     4.0     Chinese, Asian   \n",
       "589  590.0              Australia Dairy Company     3.5            Chinese   \n",
       "757  758.0                  Yung Kee Restaurant     3.5     Chinese, Asian   \n",
       "135  136.0            Din Tai Fung (Silvercord)     4.5     Chinese, Asian   \n",
       "\n",
       "     genre_1   genre_2  price  total_review                           safety  \\\n",
       "62       Bar      None    3.0        4129.0  Not taking full safety measures   \n",
       "244  Chinese     Asian    1.0        3245.0  Not taking full safety measures   \n",
       "220  Italian  Japanese    3.0        3096.0  Not taking full safety measures   \n",
       "103  Chinese      None    1.0        2742.0  Not taking full safety measures   \n",
       "118  Chinese     Asian    2.0        2107.0  Not taking full safety measures   \n",
       "166  Chinese     Asian    3.0        1875.0  Not taking full safety measures   \n",
       "447  Chinese     Asian    1.0        1767.0  Not taking full safety measures   \n",
       "589  Chinese      None    1.0        1761.0  Not taking full safety measures   \n",
       "757  Chinese     Asian    3.0        1699.0  Not taking full safety measures   \n",
       "135  Chinese     Asian    2.0        1686.0  Not taking full safety measures   \n",
       "\n",
       "                                              review_1  \\\n",
       "62                         “Brilliant Birthday Brunch”   \n",
       "244  “The baked bun with BBQ pork and steamed egg c...   \n",
       "220  “The scallops are a highlight and the staff go...   \n",
       "103                      “Amazing dimsum!! MUST VISIT”   \n",
       "118  “Excellent Dim Sum at a good price in a conven...   \n",
       "166             “Fried rice and crispy shredded beef.”   \n",
       "447  “We ordered four items: Turnip cake: these squ...   \n",
       "589                             “famous scrambled egg”   \n",
       "757       “... belly and fried rice with mini crab...”   \n",
       "135                                      “Still fine.”   \n",
       "\n",
       "                                              review_2  \n",
       "62                       “Amazing view on clear days.”  \n",
       "244                          “Good Dim Sum Good Price”  \n",
       "220  “The sashimi platter was superb - oyster, salm...  \n",
       "103  “Clean, efficient, fairly priced and in my opi...  \n",
       "118  “The dishes were excellent and we enjoyed seve...  \n",
       "166  “It is just entire HK. - food is excellent: We...  \n",
       "447  “I ordered the radish cakes (exceeded my expec...  \n",
       "589                         “Best Scrambled Eggs Ever”  \n",
       "757       “My wife saw the BBQ goose and duck in t...”  \n",
       "135                                  “michelin star !”  "
      ]
     },
     "execution_count": 37,
     "metadata": {},
     "output_type": "execute_result"
    }
   ],
   "source": [
    "restaurants.sort_values(['total_review','rating'],ascending=[False, False]).head(10)"
   ]
  }
 ],
 "metadata": {
  "kernelspec": {
   "display_name": "Python 3",
   "language": "python",
   "name": "python3"
  },
  "language_info": {
   "codemirror_mode": {
    "name": "ipython",
    "version": 3
   },
   "file_extension": ".py",
   "mimetype": "text/x-python",
   "name": "python",
   "nbconvert_exporter": "python",
   "pygments_lexer": "ipython3",
   "version": "3.8.3"
  }
 },
 "nbformat": 4,
 "nbformat_minor": 4
}
